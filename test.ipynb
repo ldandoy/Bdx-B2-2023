{
 "cells": [
  {
   "cell_type": "code",
   "execution_count": 65,
   "outputs": [],
   "source": [
    "import pandas as pd\n",
    "import seaborn as sns\n",
    "import matplotlib.pyplot as plt\n"
   ],
   "metadata": {
    "collapsed": false,
    "ExecuteTime": {
     "end_time": "2023-11-15T13:32:27.279062400Z",
     "start_time": "2023-11-15T13:32:27.260334700Z"
    }
   },
   "id": "c60ab92376802e7b"
  },
  {
   "cell_type": "code",
   "execution_count": 156,
   "outputs": [],
   "source": [
    "datas = pd.read_csv(\"data/in/met_agenda.csv\",delimiter=\";\")"
   ],
   "metadata": {
    "collapsed": false,
    "ExecuteTime": {
     "end_time": "2023-11-15T14:12:52.913811400Z",
     "start_time": "2023-11-15T14:12:52.344888900Z"
    }
   },
   "id": "d8698a8b5624dd20"
  },
  {
   "cell_type": "code",
   "execution_count": 49,
   "outputs": [
    {
     "data": {
      "text/plain": "Index(['Uid', 'Nom', 'Titre', 'Description', 'Description longue',\n       'Détail des conditions', 'Ville', 'Agenda d'origine (titre)',\n       'Mots clés', 'Date de mise à jour', 'Résumé horaires',\n       'Première date - Début', 'Première date - Fin', 'Dernière date - Début',\n       'Dernière date - Fin', 'Accessibilité', 'Identifiant du lieu',\n       'Coordonnées géographiques', 'Nom du lieu', 'Adresse', 'Arrondissement',\n       'Code INSEE', 'Code postal', 'Département', 'Région', 'Pays',\n       'Image du lieu', 'Crédits de l'image du lieu', 'Téléphone du lieu',\n       'Site web du lieu', 'Liens du lieu', 'Tags du lieu',\n       'Description du lieu', 'Accès / Itinéraire',\n       'Événement physique ou en ligne', 'Lien d'accès en ligne',\n       'État de l'événement', 'Age minimum', 'Age maximum',\n       'Agenda d'origine (uid)', 'Contributeur: Email',\n       'Contributeur: Téléphone', 'Contributeur: Nom',\n       'Contributeur: Fonction', 'Contributeur: organisation', 'Nom du pays',\n       'Liens additionnels'],\n      dtype='object')"
     },
     "execution_count": 49,
     "metadata": {},
     "output_type": "execute_result"
    }
   ],
   "source": [
    "datas.columns"
   ],
   "metadata": {
    "collapsed": false,
    "ExecuteTime": {
     "end_time": "2023-11-15T13:07:50.970890200Z",
     "start_time": "2023-11-15T13:07:50.965388400Z"
    }
   },
   "id": "b96ae76727460220"
  },
  {
   "cell_type": "code",
   "execution_count": 50,
   "outputs": [
    {
     "data": {
      "text/plain": "Uid                               14301\nNom                               14301\nTitre                             14283\nDescription                       14282\nDescription longue                13441\nDétail des conditions             11572\nVille                             14254\nAgenda d'origine (titre)          13965\nMots clés                          9375\nDate de mise à jour               14301\nRésumé horaires                   14301\nPremière date - Début             14301\nPremière date - Fin               14301\nDernière date - Début             14301\nDernière date - Fin               14301\nAccessibilité                      5414\nIdentifiant du lieu               14301\nCoordonnées géographiques         14296\nNom du lieu                       14301\nAdresse                           14301\nArrondissement                     5989\nCode INSEE                        13947\nCode postal                       13858\nDépartement                       14268\nRégion                            14205\nPays                              14301\nImage du lieu                      2827\nCrédits de l'image du lieu         1058\nTéléphone du lieu                  3211\nSite web du lieu                   3184\nLiens du lieu                       620\nTags du lieu                        888\nDescription du lieu                3042\nAccès / Itinéraire                 1371\nÉvénement physique ou en ligne    14301\nLien d'accès en ligne                15\nÉtat de l'événement               14301\nAge minimum                        2823\nAge maximum                        4347\nAgenda d'origine (uid)            13965\nContributeur: Email                   0\nContributeur: Téléphone               0\nContributeur: Nom                     0\nContributeur: Fonction                0\nContributeur: organisation            0\nNom du pays                       14301\nLiens additionnels                 2781\ndtype: int64"
     },
     "execution_count": 50,
     "metadata": {},
     "output_type": "execute_result"
    }
   ],
   "source": [
    "datas.count()"
   ],
   "metadata": {
    "collapsed": false,
    "ExecuteTime": {
     "end_time": "2023-11-15T13:07:51.027890Z",
     "start_time": "2023-11-15T13:07:50.970890200Z"
    }
   },
   "id": "5a7de1514bac046e"
  },
  {
   "cell_type": "code",
   "execution_count": 51,
   "outputs": [
    {
     "data": {
      "text/plain": "        Uid                                                Nom  \\\n0  73816325  un-week-end-en-italie-a-la-decouverte-du-prose...   \n1  41611773                            salon-du-livre-jeunesse   \n2  77243214                      bourse-aux-velos-de-printemps   \n3  49315713                               bourse-aux-vetements   \n4  44419746  seance-cine-clin-d-oeil-chez-nous-de-lucas-bel...   \n\n                                               Titre  \\\n0  Un week-end en Italie à la découverte du Prose...   \n1                            Salon du livre Jeunesse   \n2                      Bourse aux vélos de printemps   \n3                               Bourse aux vêtements   \n4  Séance ciné clin d'œil \"Chez Nous\" de Lucas Be...   \n\n                                         Description  \\\n0  Partez à la découverte du Prosecco Superiore a...   \n1  Rendez-vous du 23 au 25 mars pour la 16e éditi...   \n2  Vous cherchez à vendre ou à acheter un vélo d’...   \n3  Bourse aux vêtements organisée par l'associati...   \n4           Séance clin d'œil au cinéma Les Colonnes   \n\n                                  Description longue Détail des conditions  \\\n0  <p>Du 24 au 26 février, La Cité du Vin vous in...       Sur inscription   \n1  <p>Cette année, “Cap sur l’Amérique“. Embarque...                   NaN   \n2  <p>Rendez-vous le dimanche 9 avril, pour la bo...                   NaN   \n3  <p><strong>Réception :</strong></p>\\n<p></p>\\n...                   NaN   \n4  <p>Pauline, infirmière à domicile, entre Lens ...                   NaN   \n\n         Ville Agenda d'origine (titre)                       Mots clés  \\\n0     Bordeaux       Bordeaux Métropole   cité du vin,bordeaux,tourisme   \n1   Le Bouscat       Bordeaux Métropole          livre,jeunesse,culture   \n2     Bordeaux       Bordeaux Métropole  Vélo,déplacements,vide-grenier   \n3  Blanquefort     Ville de Blanquefort         blanquefort,association   \n4  Blanquefort     Ville de Blanquefort              cinéma,blanquefort   \n\n         Date de mise à jour  ... Age minimum Age maximum  \\\n0  2020-03-18T15:17:01+01:00  ...         NaN         NaN   \n1  2020-03-18T15:17:06+01:00  ...         NaN         NaN   \n2  2020-03-18T15:17:06+01:00  ...         NaN         NaN   \n3  2020-03-18T15:17:08+01:00  ...         NaN         NaN   \n4  2020-03-18T15:17:11+01:00  ...         NaN         NaN   \n\n  Agenda d'origine (uid) Contributeur: Email Contributeur: Téléphone  \\\n0             83549053.0                 NaN                     NaN   \n1             83549053.0                 NaN                     NaN   \n2             83549053.0                 NaN                     NaN   \n3             67583854.0                 NaN                     NaN   \n4             67583854.0                 NaN                     NaN   \n\n  Contributeur: Nom  Contributeur: Fonction Contributeur: organisation  \\\n0               NaN                     NaN                        NaN   \n1               NaN                     NaN                        NaN   \n2               NaN                     NaN                        NaN   \n3               NaN                     NaN                        NaN   \n4               NaN                     NaN                        NaN   \n\n          Nom du pays Liens additionnels  \n0  France (Métropole)                NaN  \n1  France (Métropole)                NaN  \n2  France (Métropole)                NaN  \n3  France (Métropole)                NaN  \n4  France (Métropole)                NaN  \n\n[5 rows x 47 columns]",
      "text/html": "<div>\n<style scoped>\n    .dataframe tbody tr th:only-of-type {\n        vertical-align: middle;\n    }\n\n    .dataframe tbody tr th {\n        vertical-align: top;\n    }\n\n    .dataframe thead th {\n        text-align: right;\n    }\n</style>\n<table border=\"1\" class=\"dataframe\">\n  <thead>\n    <tr style=\"text-align: right;\">\n      <th></th>\n      <th>Uid</th>\n      <th>Nom</th>\n      <th>Titre</th>\n      <th>Description</th>\n      <th>Description longue</th>\n      <th>Détail des conditions</th>\n      <th>Ville</th>\n      <th>Agenda d'origine (titre)</th>\n      <th>Mots clés</th>\n      <th>Date de mise à jour</th>\n      <th>...</th>\n      <th>Age minimum</th>\n      <th>Age maximum</th>\n      <th>Agenda d'origine (uid)</th>\n      <th>Contributeur: Email</th>\n      <th>Contributeur: Téléphone</th>\n      <th>Contributeur: Nom</th>\n      <th>Contributeur: Fonction</th>\n      <th>Contributeur: organisation</th>\n      <th>Nom du pays</th>\n      <th>Liens additionnels</th>\n    </tr>\n  </thead>\n  <tbody>\n    <tr>\n      <th>0</th>\n      <td>73816325</td>\n      <td>un-week-end-en-italie-a-la-decouverte-du-prose...</td>\n      <td>Un week-end en Italie à la découverte du Prose...</td>\n      <td>Partez à la découverte du Prosecco Superiore a...</td>\n      <td>&lt;p&gt;Du 24 au 26 février, La Cité du Vin vous in...</td>\n      <td>Sur inscription</td>\n      <td>Bordeaux</td>\n      <td>Bordeaux Métropole</td>\n      <td>cité du vin,bordeaux,tourisme</td>\n      <td>2020-03-18T15:17:01+01:00</td>\n      <td>...</td>\n      <td>NaN</td>\n      <td>NaN</td>\n      <td>83549053.0</td>\n      <td>NaN</td>\n      <td>NaN</td>\n      <td>NaN</td>\n      <td>NaN</td>\n      <td>NaN</td>\n      <td>France (Métropole)</td>\n      <td>NaN</td>\n    </tr>\n    <tr>\n      <th>1</th>\n      <td>41611773</td>\n      <td>salon-du-livre-jeunesse</td>\n      <td>Salon du livre Jeunesse</td>\n      <td>Rendez-vous du 23 au 25 mars pour la 16e éditi...</td>\n      <td>&lt;p&gt;Cette année, “Cap sur l’Amérique“. Embarque...</td>\n      <td>NaN</td>\n      <td>Le Bouscat</td>\n      <td>Bordeaux Métropole</td>\n      <td>livre,jeunesse,culture</td>\n      <td>2020-03-18T15:17:06+01:00</td>\n      <td>...</td>\n      <td>NaN</td>\n      <td>NaN</td>\n      <td>83549053.0</td>\n      <td>NaN</td>\n      <td>NaN</td>\n      <td>NaN</td>\n      <td>NaN</td>\n      <td>NaN</td>\n      <td>France (Métropole)</td>\n      <td>NaN</td>\n    </tr>\n    <tr>\n      <th>2</th>\n      <td>77243214</td>\n      <td>bourse-aux-velos-de-printemps</td>\n      <td>Bourse aux vélos de printemps</td>\n      <td>Vous cherchez à vendre ou à acheter un vélo d’...</td>\n      <td>&lt;p&gt;Rendez-vous le dimanche 9 avril, pour la bo...</td>\n      <td>NaN</td>\n      <td>Bordeaux</td>\n      <td>Bordeaux Métropole</td>\n      <td>Vélo,déplacements,vide-grenier</td>\n      <td>2020-03-18T15:17:06+01:00</td>\n      <td>...</td>\n      <td>NaN</td>\n      <td>NaN</td>\n      <td>83549053.0</td>\n      <td>NaN</td>\n      <td>NaN</td>\n      <td>NaN</td>\n      <td>NaN</td>\n      <td>NaN</td>\n      <td>France (Métropole)</td>\n      <td>NaN</td>\n    </tr>\n    <tr>\n      <th>3</th>\n      <td>49315713</td>\n      <td>bourse-aux-vetements</td>\n      <td>Bourse aux vêtements</td>\n      <td>Bourse aux vêtements organisée par l'associati...</td>\n      <td>&lt;p&gt;&lt;strong&gt;Réception :&lt;/strong&gt;&lt;/p&gt;\\n&lt;p&gt;&lt;/p&gt;\\n...</td>\n      <td>NaN</td>\n      <td>Blanquefort</td>\n      <td>Ville de Blanquefort</td>\n      <td>blanquefort,association</td>\n      <td>2020-03-18T15:17:08+01:00</td>\n      <td>...</td>\n      <td>NaN</td>\n      <td>NaN</td>\n      <td>67583854.0</td>\n      <td>NaN</td>\n      <td>NaN</td>\n      <td>NaN</td>\n      <td>NaN</td>\n      <td>NaN</td>\n      <td>France (Métropole)</td>\n      <td>NaN</td>\n    </tr>\n    <tr>\n      <th>4</th>\n      <td>44419746</td>\n      <td>seance-cine-clin-d-oeil-chez-nous-de-lucas-bel...</td>\n      <td>Séance ciné clin d'œil \"Chez Nous\" de Lucas Be...</td>\n      <td>Séance clin d'œil au cinéma Les Colonnes</td>\n      <td>&lt;p&gt;Pauline, infirmière à domicile, entre Lens ...</td>\n      <td>NaN</td>\n      <td>Blanquefort</td>\n      <td>Ville de Blanquefort</td>\n      <td>cinéma,blanquefort</td>\n      <td>2020-03-18T15:17:11+01:00</td>\n      <td>...</td>\n      <td>NaN</td>\n      <td>NaN</td>\n      <td>67583854.0</td>\n      <td>NaN</td>\n      <td>NaN</td>\n      <td>NaN</td>\n      <td>NaN</td>\n      <td>NaN</td>\n      <td>France (Métropole)</td>\n      <td>NaN</td>\n    </tr>\n  </tbody>\n</table>\n<p>5 rows × 47 columns</p>\n</div>"
     },
     "execution_count": 51,
     "metadata": {},
     "output_type": "execute_result"
    }
   ],
   "source": [
    "datas.head()"
   ],
   "metadata": {
    "collapsed": false,
    "ExecuteTime": {
     "end_time": "2023-11-15T13:07:51.028921300Z",
     "start_time": "2023-11-15T13:07:51.000832200Z"
    }
   },
   "id": "d5ebc7322f7c1f59"
  },
  {
   "cell_type": "code",
   "execution_count": 51,
   "outputs": [],
   "source": [],
   "metadata": {
    "collapsed": false,
    "ExecuteTime": {
     "end_time": "2023-11-15T13:07:51.028921300Z",
     "start_time": "2023-11-15T13:07:51.013880400Z"
    }
   },
   "id": "60879761eb266e57"
  },
  {
   "cell_type": "code",
   "execution_count": 52,
   "outputs": [
    {
     "data": {
      "text/plain": "                Uid  Identifiant du lieu    Code INSEE  Age minimum  \\\ncount  1.430100e+04         1.430100e+04  13947.000000  2823.000000   \nmean   4.973208e+07         4.728785e+07  33178.828422     9.961389   \nstd    2.893511e+07         2.987330e+07   1972.386278     6.554866   \nmin    7.149000e+03         1.855200e+04   6029.000000     1.000000   \n25%    2.478998e+07         1.910378e+07  33063.000000     6.000000   \n50%    4.923936e+07         4.627533e+07  33063.000000     8.000000   \n75%    7.457567e+07         7.492320e+07  33200.000000    14.000000   \nmax    9.999960e+07         9.992840e+07  86194.000000    65.000000   \n\n       Age maximum  Agenda d'origine (uid)  Contributeur: Email  \\\ncount  4347.000000            1.396500e+04                  0.0   \nmean     89.048769            4.403229e+07                  NaN   \nstd      30.567939            3.204198e+07                  NaN   \nmin       2.000000            8.859300e+04                  NaN   \n25%      99.000000            1.532217e+07                  NaN   \n50%      99.000000            3.955116e+07                  NaN   \n75%      99.000000            8.023020e+07                  NaN   \nmax     121.000000            9.956288e+07                  NaN   \n\n       Contributeur: Téléphone  Contributeur: Nom  Contributeur: Fonction  \\\ncount                      0.0                0.0                     0.0   \nmean                       NaN                NaN                     NaN   \nstd                        NaN                NaN                     NaN   \nmin                        NaN                NaN                     NaN   \n25%                        NaN                NaN                     NaN   \n50%                        NaN                NaN                     NaN   \n75%                        NaN                NaN                     NaN   \nmax                        NaN                NaN                     NaN   \n\n       Contributeur: organisation  \ncount                         0.0  \nmean                          NaN  \nstd                           NaN  \nmin                           NaN  \n25%                           NaN  \n50%                           NaN  \n75%                           NaN  \nmax                           NaN  ",
      "text/html": "<div>\n<style scoped>\n    .dataframe tbody tr th:only-of-type {\n        vertical-align: middle;\n    }\n\n    .dataframe tbody tr th {\n        vertical-align: top;\n    }\n\n    .dataframe thead th {\n        text-align: right;\n    }\n</style>\n<table border=\"1\" class=\"dataframe\">\n  <thead>\n    <tr style=\"text-align: right;\">\n      <th></th>\n      <th>Uid</th>\n      <th>Identifiant du lieu</th>\n      <th>Code INSEE</th>\n      <th>Age minimum</th>\n      <th>Age maximum</th>\n      <th>Agenda d'origine (uid)</th>\n      <th>Contributeur: Email</th>\n      <th>Contributeur: Téléphone</th>\n      <th>Contributeur: Nom</th>\n      <th>Contributeur: Fonction</th>\n      <th>Contributeur: organisation</th>\n    </tr>\n  </thead>\n  <tbody>\n    <tr>\n      <th>count</th>\n      <td>1.430100e+04</td>\n      <td>1.430100e+04</td>\n      <td>13947.000000</td>\n      <td>2823.000000</td>\n      <td>4347.000000</td>\n      <td>1.396500e+04</td>\n      <td>0.0</td>\n      <td>0.0</td>\n      <td>0.0</td>\n      <td>0.0</td>\n      <td>0.0</td>\n    </tr>\n    <tr>\n      <th>mean</th>\n      <td>4.973208e+07</td>\n      <td>4.728785e+07</td>\n      <td>33178.828422</td>\n      <td>9.961389</td>\n      <td>89.048769</td>\n      <td>4.403229e+07</td>\n      <td>NaN</td>\n      <td>NaN</td>\n      <td>NaN</td>\n      <td>NaN</td>\n      <td>NaN</td>\n    </tr>\n    <tr>\n      <th>std</th>\n      <td>2.893511e+07</td>\n      <td>2.987330e+07</td>\n      <td>1972.386278</td>\n      <td>6.554866</td>\n      <td>30.567939</td>\n      <td>3.204198e+07</td>\n      <td>NaN</td>\n      <td>NaN</td>\n      <td>NaN</td>\n      <td>NaN</td>\n      <td>NaN</td>\n    </tr>\n    <tr>\n      <th>min</th>\n      <td>7.149000e+03</td>\n      <td>1.855200e+04</td>\n      <td>6029.000000</td>\n      <td>1.000000</td>\n      <td>2.000000</td>\n      <td>8.859300e+04</td>\n      <td>NaN</td>\n      <td>NaN</td>\n      <td>NaN</td>\n      <td>NaN</td>\n      <td>NaN</td>\n    </tr>\n    <tr>\n      <th>25%</th>\n      <td>2.478998e+07</td>\n      <td>1.910378e+07</td>\n      <td>33063.000000</td>\n      <td>6.000000</td>\n      <td>99.000000</td>\n      <td>1.532217e+07</td>\n      <td>NaN</td>\n      <td>NaN</td>\n      <td>NaN</td>\n      <td>NaN</td>\n      <td>NaN</td>\n    </tr>\n    <tr>\n      <th>50%</th>\n      <td>4.923936e+07</td>\n      <td>4.627533e+07</td>\n      <td>33063.000000</td>\n      <td>8.000000</td>\n      <td>99.000000</td>\n      <td>3.955116e+07</td>\n      <td>NaN</td>\n      <td>NaN</td>\n      <td>NaN</td>\n      <td>NaN</td>\n      <td>NaN</td>\n    </tr>\n    <tr>\n      <th>75%</th>\n      <td>7.457567e+07</td>\n      <td>7.492320e+07</td>\n      <td>33200.000000</td>\n      <td>14.000000</td>\n      <td>99.000000</td>\n      <td>8.023020e+07</td>\n      <td>NaN</td>\n      <td>NaN</td>\n      <td>NaN</td>\n      <td>NaN</td>\n      <td>NaN</td>\n    </tr>\n    <tr>\n      <th>max</th>\n      <td>9.999960e+07</td>\n      <td>9.992840e+07</td>\n      <td>86194.000000</td>\n      <td>65.000000</td>\n      <td>121.000000</td>\n      <td>9.956288e+07</td>\n      <td>NaN</td>\n      <td>NaN</td>\n      <td>NaN</td>\n      <td>NaN</td>\n      <td>NaN</td>\n    </tr>\n  </tbody>\n</table>\n</div>"
     },
     "execution_count": 52,
     "metadata": {},
     "output_type": "execute_result"
    }
   ],
   "source": [
    "datas.describe()"
   ],
   "metadata": {
    "collapsed": false,
    "ExecuteTime": {
     "end_time": "2023-11-15T13:07:51.043524200Z",
     "start_time": "2023-11-15T13:07:51.015888400Z"
    }
   },
   "id": "c70d0d05083d4350"
  },
  {
   "cell_type": "code",
   "execution_count": 52,
   "outputs": [],
   "source": [],
   "metadata": {
    "collapsed": false,
    "ExecuteTime": {
     "end_time": "2023-11-15T13:07:51.045535300Z",
     "start_time": "2023-11-15T13:07:51.041900Z"
    }
   },
   "id": "6a6b07ec864df5f0"
  },
  {
   "cell_type": "code",
   "execution_count": 53,
   "outputs": [
    {
     "data": {
      "text/plain": "                Uid  Identifiant du lieu    Code INSEE  Age minimum  \\\ncount  6.404000e+03         6.404000e+03   6182.000000  1181.000000   \nmean   4.952620e+07         4.918104e+07  33063.276771    10.864522   \nstd    2.909621e+07         2.888503e+07     12.827388     6.079998   \nmin    1.751300e+04         7.625900e+04  33063.000000     1.000000   \n25%    2.427220e+07         2.400465e+07  33063.000000     6.000000   \n50%    4.919998e+07         4.810915e+07  33063.000000    10.000000   \n75%    7.491458e+07         7.554734e+07  33063.000000    16.000000   \nmax    9.999960e+07         9.992840e+07  33800.000000    65.000000   \n\n       Age maximum  Agenda d'origine (uid)  Contributeur: Email  \\\ncount  1680.000000            6.118000e+03                  0.0   \nmean     85.823214            3.035888e+07                  NaN   \nstd      32.099092            3.119622e+07                  NaN   \nmin       3.000000            8.859300e+04                  NaN   \n25%      99.000000            4.898229e+06                  NaN   \n50%      99.000000            2.389035e+07                  NaN   \n75%      99.000000            4.132776e+07                  NaN   \nmax     121.000000            9.956288e+07                  NaN   \n\n       Contributeur: Téléphone  Contributeur: Nom  Contributeur: Fonction  \\\ncount                      0.0                0.0                     0.0   \nmean                       NaN                NaN                     NaN   \nstd                        NaN                NaN                     NaN   \nmin                        NaN                NaN                     NaN   \n25%                        NaN                NaN                     NaN   \n50%                        NaN                NaN                     NaN   \n75%                        NaN                NaN                     NaN   \nmax                        NaN                NaN                     NaN   \n\n       Contributeur: organisation  \ncount                         0.0  \nmean                          NaN  \nstd                           NaN  \nmin                           NaN  \n25%                           NaN  \n50%                           NaN  \n75%                           NaN  \nmax                           NaN  ",
      "text/html": "<div>\n<style scoped>\n    .dataframe tbody tr th:only-of-type {\n        vertical-align: middle;\n    }\n\n    .dataframe tbody tr th {\n        vertical-align: top;\n    }\n\n    .dataframe thead th {\n        text-align: right;\n    }\n</style>\n<table border=\"1\" class=\"dataframe\">\n  <thead>\n    <tr style=\"text-align: right;\">\n      <th></th>\n      <th>Uid</th>\n      <th>Identifiant du lieu</th>\n      <th>Code INSEE</th>\n      <th>Age minimum</th>\n      <th>Age maximum</th>\n      <th>Agenda d'origine (uid)</th>\n      <th>Contributeur: Email</th>\n      <th>Contributeur: Téléphone</th>\n      <th>Contributeur: Nom</th>\n      <th>Contributeur: Fonction</th>\n      <th>Contributeur: organisation</th>\n    </tr>\n  </thead>\n  <tbody>\n    <tr>\n      <th>count</th>\n      <td>6.404000e+03</td>\n      <td>6.404000e+03</td>\n      <td>6182.000000</td>\n      <td>1181.000000</td>\n      <td>1680.000000</td>\n      <td>6.118000e+03</td>\n      <td>0.0</td>\n      <td>0.0</td>\n      <td>0.0</td>\n      <td>0.0</td>\n      <td>0.0</td>\n    </tr>\n    <tr>\n      <th>mean</th>\n      <td>4.952620e+07</td>\n      <td>4.918104e+07</td>\n      <td>33063.276771</td>\n      <td>10.864522</td>\n      <td>85.823214</td>\n      <td>3.035888e+07</td>\n      <td>NaN</td>\n      <td>NaN</td>\n      <td>NaN</td>\n      <td>NaN</td>\n      <td>NaN</td>\n    </tr>\n    <tr>\n      <th>std</th>\n      <td>2.909621e+07</td>\n      <td>2.888503e+07</td>\n      <td>12.827388</td>\n      <td>6.079998</td>\n      <td>32.099092</td>\n      <td>3.119622e+07</td>\n      <td>NaN</td>\n      <td>NaN</td>\n      <td>NaN</td>\n      <td>NaN</td>\n      <td>NaN</td>\n    </tr>\n    <tr>\n      <th>min</th>\n      <td>1.751300e+04</td>\n      <td>7.625900e+04</td>\n      <td>33063.000000</td>\n      <td>1.000000</td>\n      <td>3.000000</td>\n      <td>8.859300e+04</td>\n      <td>NaN</td>\n      <td>NaN</td>\n      <td>NaN</td>\n      <td>NaN</td>\n      <td>NaN</td>\n    </tr>\n    <tr>\n      <th>25%</th>\n      <td>2.427220e+07</td>\n      <td>2.400465e+07</td>\n      <td>33063.000000</td>\n      <td>6.000000</td>\n      <td>99.000000</td>\n      <td>4.898229e+06</td>\n      <td>NaN</td>\n      <td>NaN</td>\n      <td>NaN</td>\n      <td>NaN</td>\n      <td>NaN</td>\n    </tr>\n    <tr>\n      <th>50%</th>\n      <td>4.919998e+07</td>\n      <td>4.810915e+07</td>\n      <td>33063.000000</td>\n      <td>10.000000</td>\n      <td>99.000000</td>\n      <td>2.389035e+07</td>\n      <td>NaN</td>\n      <td>NaN</td>\n      <td>NaN</td>\n      <td>NaN</td>\n      <td>NaN</td>\n    </tr>\n    <tr>\n      <th>75%</th>\n      <td>7.491458e+07</td>\n      <td>7.554734e+07</td>\n      <td>33063.000000</td>\n      <td>16.000000</td>\n      <td>99.000000</td>\n      <td>4.132776e+07</td>\n      <td>NaN</td>\n      <td>NaN</td>\n      <td>NaN</td>\n      <td>NaN</td>\n      <td>NaN</td>\n    </tr>\n    <tr>\n      <th>max</th>\n      <td>9.999960e+07</td>\n      <td>9.992840e+07</td>\n      <td>33800.000000</td>\n      <td>65.000000</td>\n      <td>121.000000</td>\n      <td>9.956288e+07</td>\n      <td>NaN</td>\n      <td>NaN</td>\n      <td>NaN</td>\n      <td>NaN</td>\n      <td>NaN</td>\n    </tr>\n  </tbody>\n</table>\n</div>"
     },
     "execution_count": 53,
     "metadata": {},
     "output_type": "execute_result"
    }
   ],
   "source": [
    "data_bdx = datas[datas['Ville'] == 'Bordeaux']\n",
    "data_bdx.describe()"
   ],
   "metadata": {
    "collapsed": false,
    "ExecuteTime": {
     "end_time": "2023-11-15T13:07:51.148617800Z",
     "start_time": "2023-11-15T13:07:51.047778600Z"
    }
   },
   "id": "d9c808a2692dbe50"
  },
  {
   "cell_type": "code",
   "execution_count": 54,
   "outputs": [],
   "source": [
    "data_ville = datas.groupby(['Ville']).count()\n",
    "data_ville = data_ville[data_ville['Uid'] > 50]"
   ],
   "metadata": {
    "collapsed": false,
    "ExecuteTime": {
     "end_time": "2023-11-15T13:07:51.166616900Z",
     "start_time": "2023-11-15T13:07:51.082879700Z"
    }
   },
   "id": "5d00798a63e24e7e"
  },
  {
   "cell_type": "code",
   "execution_count": 2,
   "outputs": [
    {
     "ename": "NameError",
     "evalue": "name 'data_ville' is not defined",
     "output_type": "error",
     "traceback": [
      "\u001B[1;31m---------------------------------------------------------------------------\u001B[0m",
      "\u001B[1;31mNameError\u001B[0m                                 Traceback (most recent call last)",
      "Cell \u001B[1;32mIn[2], line 1\u001B[0m\n\u001B[1;32m----> 1\u001B[0m plot \u001B[38;5;241m=\u001B[39m \u001B[43mdata_ville\u001B[49m\u001B[38;5;241m.\u001B[39mplot\u001B[38;5;241m.\u001B[39mpie(y\u001B[38;5;241m=\u001B[39m\u001B[38;5;124m'\u001B[39m\u001B[38;5;124mUid\u001B[39m\u001B[38;5;124m'\u001B[39m, figsize\u001B[38;5;241m=\u001B[39m(\u001B[38;5;241m8\u001B[39m, \u001B[38;5;241m11\u001B[39m))\n",
      "\u001B[1;31mNameError\u001B[0m: name 'data_ville' is not defined"
     ]
    }
   ],
   "source": [
    "plot = data_ville.plot.pie(y='Uid', figsize=(8, 11))"
   ],
   "metadata": {
    "collapsed": false,
    "ExecuteTime": {
     "end_time": "2023-11-15T14:49:41.112423800Z",
     "start_time": "2023-11-15T14:49:40.809124500Z"
    }
   },
   "id": "ff270689a30293dc"
  },
  {
   "cell_type": "code",
   "execution_count": null,
   "outputs": [],
   "source": [],
   "metadata": {
    "collapsed": false
   },
   "id": "2ddbaf60f9a5bba"
  }
 ],
 "metadata": {
  "kernelspec": {
   "display_name": "Python 3",
   "language": "python",
   "name": "python3"
  },
  "language_info": {
   "codemirror_mode": {
    "name": "ipython",
    "version": 2
   },
   "file_extension": ".py",
   "mimetype": "text/x-python",
   "name": "python",
   "nbconvert_exporter": "python",
   "pygments_lexer": "ipython2",
   "version": "2.7.6"
  }
 },
 "nbformat": 4,
 "nbformat_minor": 5
}
